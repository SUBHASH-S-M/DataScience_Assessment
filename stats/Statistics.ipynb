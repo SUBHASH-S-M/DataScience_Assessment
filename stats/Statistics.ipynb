{
 "cells": [
  {
   "cell_type": "code",
   "execution_count": 24,
   "id": "428be20a",
   "metadata": {},
   "outputs": [],
   "source": [
    "import pandas as pd\n",
    "import numpy as np\n",
    "from scipy import stats"
   ]
  },
  {
   "cell_type": "code",
   "execution_count": 2,
   "id": "ad626444",
   "metadata": {},
   "outputs": [],
   "source": [
    "data=pd.read_excel(\"Stats.xlsx\")"
   ]
  },
  {
   "cell_type": "code",
   "execution_count": 3,
   "id": "8448ec64",
   "metadata": {},
   "outputs": [
    {
     "data": {
      "text/html": [
       "<div>\n",
       "<style scoped>\n",
       "    .dataframe tbody tr th:only-of-type {\n",
       "        vertical-align: middle;\n",
       "    }\n",
       "\n",
       "    .dataframe tbody tr th {\n",
       "        vertical-align: top;\n",
       "    }\n",
       "\n",
       "    .dataframe thead th {\n",
       "        text-align: right;\n",
       "    }\n",
       "</style>\n",
       "<table border=\"1\" class=\"dataframe\">\n",
       "  <thead>\n",
       "    <tr style=\"text-align: right;\">\n",
       "      <th></th>\n",
       "      <th>Emp#</th>\n",
       "      <th>YearsOfExp</th>\n",
       "      <th>Salary in Rs.</th>\n",
       "    </tr>\n",
       "  </thead>\n",
       "  <tbody>\n",
       "    <tr>\n",
       "      <th>0</th>\n",
       "      <td>1</td>\n",
       "      <td>10</td>\n",
       "      <td>126015</td>\n",
       "    </tr>\n",
       "    <tr>\n",
       "      <th>1</th>\n",
       "      <td>2</td>\n",
       "      <td>1</td>\n",
       "      <td>12598</td>\n",
       "    </tr>\n",
       "    <tr>\n",
       "      <th>2</th>\n",
       "      <td>3</td>\n",
       "      <td>8</td>\n",
       "      <td>100639</td>\n",
       "    </tr>\n",
       "    <tr>\n",
       "      <th>3</th>\n",
       "      <td>4</td>\n",
       "      <td>10</td>\n",
       "      <td>125351</td>\n",
       "    </tr>\n",
       "    <tr>\n",
       "      <th>4</th>\n",
       "      <td>5</td>\n",
       "      <td>2</td>\n",
       "      <td>25031</td>\n",
       "    </tr>\n",
       "    <tr>\n",
       "      <th>5</th>\n",
       "      <td>6</td>\n",
       "      <td>5</td>\n",
       "      <td>62630</td>\n",
       "    </tr>\n",
       "    <tr>\n",
       "      <th>6</th>\n",
       "      <td>7</td>\n",
       "      <td>9</td>\n",
       "      <td>112620</td>\n",
       "    </tr>\n",
       "    <tr>\n",
       "      <th>7</th>\n",
       "      <td>8</td>\n",
       "      <td>8</td>\n",
       "      <td>100639</td>\n",
       "    </tr>\n",
       "    <tr>\n",
       "      <th>8</th>\n",
       "      <td>9</td>\n",
       "      <td>4</td>\n",
       "      <td>50145</td>\n",
       "    </tr>\n",
       "    <tr>\n",
       "      <th>9</th>\n",
       "      <td>10</td>\n",
       "      <td>2</td>\n",
       "      <td>25232</td>\n",
       "    </tr>\n",
       "    <tr>\n",
       "      <th>10</th>\n",
       "      <td>11</td>\n",
       "      <td>9</td>\n",
       "      <td>112770</td>\n",
       "    </tr>\n",
       "    <tr>\n",
       "      <th>11</th>\n",
       "      <td>12</td>\n",
       "      <td>3</td>\n",
       "      <td>37512</td>\n",
       "    </tr>\n",
       "    <tr>\n",
       "      <th>12</th>\n",
       "      <td>13</td>\n",
       "      <td>4</td>\n",
       "      <td>50274</td>\n",
       "    </tr>\n",
       "    <tr>\n",
       "      <th>13</th>\n",
       "      <td>14</td>\n",
       "      <td>5</td>\n",
       "      <td>62768</td>\n",
       "    </tr>\n",
       "    <tr>\n",
       "      <th>14</th>\n",
       "      <td>15</td>\n",
       "      <td>10</td>\n",
       "      <td>125363</td>\n",
       "    </tr>\n",
       "    <tr>\n",
       "      <th>15</th>\n",
       "      <td>16</td>\n",
       "      <td>2</td>\n",
       "      <td>25226</td>\n",
       "    </tr>\n",
       "    <tr>\n",
       "      <th>16</th>\n",
       "      <td>17</td>\n",
       "      <td>6</td>\n",
       "      <td>75392</td>\n",
       "    </tr>\n",
       "    <tr>\n",
       "      <th>17</th>\n",
       "      <td>18</td>\n",
       "      <td>7</td>\n",
       "      <td>87779</td>\n",
       "    </tr>\n",
       "    <tr>\n",
       "      <th>18</th>\n",
       "      <td>19</td>\n",
       "      <td>7</td>\n",
       "      <td>87654</td>\n",
       "    </tr>\n",
       "    <tr>\n",
       "      <th>19</th>\n",
       "      <td>20</td>\n",
       "      <td>3</td>\n",
       "      <td>37592</td>\n",
       "    </tr>\n",
       "    <tr>\n",
       "      <th>20</th>\n",
       "      <td>21</td>\n",
       "      <td>10</td>\n",
       "      <td>125186</td>\n",
       "    </tr>\n",
       "    <tr>\n",
       "      <th>21</th>\n",
       "      <td>22</td>\n",
       "      <td>2</td>\n",
       "      <td>25187</td>\n",
       "    </tr>\n",
       "    <tr>\n",
       "      <th>22</th>\n",
       "      <td>23</td>\n",
       "      <td>9</td>\n",
       "      <td>113309</td>\n",
       "    </tr>\n",
       "    <tr>\n",
       "      <th>23</th>\n",
       "      <td>24</td>\n",
       "      <td>9</td>\n",
       "      <td>113112</td>\n",
       "    </tr>\n",
       "    <tr>\n",
       "      <th>24</th>\n",
       "      <td>25</td>\n",
       "      <td>10</td>\n",
       "      <td>125506</td>\n",
       "    </tr>\n",
       "  </tbody>\n",
       "</table>\n",
       "</div>"
      ],
      "text/plain": [
       "    Emp#  YearsOfExp  Salary in Rs.\n",
       "0      1          10         126015\n",
       "1      2           1          12598\n",
       "2      3           8         100639\n",
       "3      4          10         125351\n",
       "4      5           2          25031\n",
       "5      6           5          62630\n",
       "6      7           9         112620\n",
       "7      8           8         100639\n",
       "8      9           4          50145\n",
       "9     10           2          25232\n",
       "10    11           9         112770\n",
       "11    12           3          37512\n",
       "12    13           4          50274\n",
       "13    14           5          62768\n",
       "14    15          10         125363\n",
       "15    16           2          25226\n",
       "16    17           6          75392\n",
       "17    18           7          87779\n",
       "18    19           7          87654\n",
       "19    20           3          37592\n",
       "20    21          10         125186\n",
       "21    22           2          25187\n",
       "22    23           9         113309\n",
       "23    24           9         113112\n",
       "24    25          10         125506"
      ]
     },
     "execution_count": 3,
     "metadata": {},
     "output_type": "execute_result"
    }
   ],
   "source": [
    "data"
   ]
  },
  {
   "cell_type": "markdown",
   "id": "b1267590",
   "metadata": {},
   "source": [
    "# Mean "
   ]
  },
  {
   "cell_type": "markdown",
   "id": "228fdbc1",
   "metadata": {},
   "source": [
    ". Mean of Years of Exp\n"
   ]
  },
  {
   "cell_type": "code",
   "execution_count": 10,
   "id": "99873d02",
   "metadata": {},
   "outputs": [],
   "source": [
    "x=np.mean(data['YearsOfExp'])"
   ]
  },
  {
   "cell_type": "code",
   "execution_count": 12,
   "id": "3f16aca2",
   "metadata": {},
   "outputs": [
    {
     "name": "stdout",
     "output_type": "stream",
     "text": [
      "Mean of YearsOfExp is  6.2\n"
     ]
    }
   ],
   "source": [
    "print(\"Mean of YearsOfExp is \",x)"
   ]
  },
  {
   "cell_type": "markdown",
   "id": "f2b4f641",
   "metadata": {},
   "source": [
    ". Mean of Years of Salary"
   ]
  },
  {
   "cell_type": "code",
   "execution_count": 13,
   "id": "25e49c42",
   "metadata": {},
   "outputs": [],
   "source": [
    "x=np.mean(data['Salary in Rs.'])"
   ]
  },
  {
   "cell_type": "code",
   "execution_count": 15,
   "id": "06fcf00f",
   "metadata": {},
   "outputs": [
    {
     "name": "stdout",
     "output_type": "stream",
     "text": [
      "Mean of Salary(in Rs) is  77821.2\n"
     ]
    }
   ],
   "source": [
    "print(\"Mean of Salary(in Rs) is \",x)"
   ]
  },
  {
   "cell_type": "markdown",
   "id": "51476054",
   "metadata": {},
   "source": [
    "# Median"
   ]
  },
  {
   "cell_type": "markdown",
   "id": "6be9ca87",
   "metadata": {},
   "source": [
    ". Median of Years of Exp"
   ]
  },
  {
   "cell_type": "code",
   "execution_count": 17,
   "id": "ab67f46b",
   "metadata": {},
   "outputs": [],
   "source": [
    "x=np.median(data['YearsOfExp'])"
   ]
  },
  {
   "cell_type": "code",
   "execution_count": 18,
   "id": "3f0f2e5c",
   "metadata": {},
   "outputs": [
    {
     "name": "stdout",
     "output_type": "stream",
     "text": [
      "Median of YearsOfExp is  7.0\n"
     ]
    }
   ],
   "source": [
    "print(\"Median of YearsOfExp is \",x)"
   ]
  },
  {
   "cell_type": "markdown",
   "id": "5f394955",
   "metadata": {},
   "source": [
    ". Median of Years of Salary"
   ]
  },
  {
   "cell_type": "code",
   "execution_count": 21,
   "id": "a0686103",
   "metadata": {},
   "outputs": [],
   "source": [
    "x=np.median(data['Salary in Rs.'])"
   ]
  },
  {
   "cell_type": "code",
   "execution_count": 22,
   "id": "3a94a0e7",
   "metadata": {},
   "outputs": [
    {
     "name": "stdout",
     "output_type": "stream",
     "text": [
      "Median of Salary(in Rs) is  87654.0\n"
     ]
    }
   ],
   "source": [
    "print(\"Median of Salary(in Rs) is \",x)"
   ]
  },
  {
   "cell_type": "markdown",
   "id": "c7485324",
   "metadata": {},
   "source": [
    "# Mode"
   ]
  },
  {
   "cell_type": "code",
   "execution_count": 25,
   "id": "06e210f4",
   "metadata": {},
   "outputs": [
    {
     "name": "stdout",
     "output_type": "stream",
     "text": [
      "Mode of YearsOfExp is  ModeResult(mode=array([10], dtype=int64), count=array([5]))\n"
     ]
    }
   ],
   "source": [
    "\n",
    "x=stats.mode(data['YearsOfExp'])\n",
    "print(\"Mode of YearsOfExp is \",x)"
   ]
  },
  {
   "cell_type": "code",
   "execution_count": 26,
   "id": "cd7e9f2e",
   "metadata": {},
   "outputs": [
    {
     "name": "stdout",
     "output_type": "stream",
     "text": [
      "Mode of Salary in Rs. is  ModeResult(mode=array([100639], dtype=int64), count=array([2]))\n"
     ]
    }
   ],
   "source": [
    "\n",
    "x=stats.mode(data['Salary in Rs.'])\n",
    "print(\"Mode of Salary in Rs. is \",x)"
   ]
  },
  {
   "cell_type": "markdown",
   "id": "f231d0e7",
   "metadata": {},
   "source": [
    "# Standard Deviation"
   ]
  },
  {
   "cell_type": "code",
   "execution_count": 29,
   "id": "499130ea",
   "metadata": {},
   "outputs": [
    {
     "name": "stdout",
     "output_type": "stream",
     "text": [
      "Std of YearsOfExp is  3.111269837220809\n"
     ]
    }
   ],
   "source": [
    "\n",
    "x=np.std((data['YearsOfExp']))\n",
    "print(\"Std of YearsOfExp is \",x)"
   ]
  },
  {
   "cell_type": "code",
   "execution_count": 30,
   "id": "931475f2",
   "metadata": {},
   "outputs": [
    {
     "name": "stdout",
     "output_type": "stream",
     "text": [
      "Std of Salary in Rs is   39042.5299620811\n"
     ]
    }
   ],
   "source": [
    "x=np.std((data['Salary in Rs.']))\n",
    "print(\"Std of Salary in Rs is  \",x)"
   ]
  },
  {
   "cell_type": "code",
   "execution_count": 31,
   "id": "cdc4561e",
   "metadata": {},
   "outputs": [
    {
     "name": "stdout",
     "output_type": "stream",
     "text": [
      "Variance of YearsOfExp is  9.68\n",
      "Variance of Salary in Rs is   1524319145.8400004\n"
     ]
    }
   ],
   "source": [
    "\n",
    "x=np.var((data['YearsOfExp']))\n",
    "print(\"Variance of YearsOfExp is \",x)\n",
    "\n",
    "x=np.var((data['Salary in Rs.']))\n",
    "print(\"Variance of Salary in Rs is  \",x)"
   ]
  },
  {
   "cell_type": "code",
   "execution_count": null,
   "id": "34b0d44e",
   "metadata": {},
   "outputs": [],
   "source": []
  }
 ],
 "metadata": {
  "kernelspec": {
   "display_name": "Python 3 (ipykernel)",
   "language": "python",
   "name": "python3"
  },
  "language_info": {
   "codemirror_mode": {
    "name": "ipython",
    "version": 3
   },
   "file_extension": ".py",
   "mimetype": "text/x-python",
   "name": "python",
   "nbconvert_exporter": "python",
   "pygments_lexer": "ipython3",
   "version": "3.7.11"
  }
 },
 "nbformat": 4,
 "nbformat_minor": 5
}
